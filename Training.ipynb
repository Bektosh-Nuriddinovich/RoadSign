{
 "cells": [
  {
   "cell_type": "code",
   "execution_count": 1,
   "id": "c0b7c254",
   "metadata": {},
   "outputs": [],
   "source": [
    "import os\n",
    "import cv2\n",
    "import matplotlib.pyplot as plt\n",
    "import numpy as np\n",
    "import matplotlib.image as mimg"
   ]
  },
  {
   "cell_type": "code",
   "execution_count": 4,
   "id": "a62d9edc",
   "metadata": {},
   "outputs": [],
   "source": [
    "data_path=\"C:/Users/Acer/Programm/Project/road sign/myData\""
   ]
  },
  {
   "cell_type": "code",
   "execution_count": null,
   "id": "403642df",
   "metadata": {},
   "outputs": [
    {
     "name": "stdout",
     "output_type": "stream",
     "text": [
      "Total Classes data 43\n",
      "Importing Classes....\n",
      "0 1 "
     ]
    }
   ],
   "source": [
    "x_train=np.array([])\n",
    "y_train=np.array([])\n",
    "MyList=os.listdir(data_path)\n",
    "print(\"Total Classes data\",len(MyList))\n",
    "print(\"Importing Classes....\")\n",
    "\n",
    "for i in range(0,len(MyList)):\n",
    "    ImgList=os.listdir(data_path+'/'+str(i))\n",
    "    New_data_path=data_path+'/'+str(i)+'/'\n",
    "    for j in ImgList:\n",
    "        Img=mimg.imread(New_data_path+j)\n",
    "        Img=cv2.resize(Img,(96,96))\n",
    "        x_train=np.append(x_train,Img)\n",
    "        y_train=np.append(y_train,i)\n",
    "    print(i,end=\" \")\n",
    "print(' ')"
   ]
  },
  {
   "cell_type": "code",
   "execution_count": null,
   "id": "a4b14261",
   "metadata": {},
   "outputs": [],
   "source": []
  }
 ],
 "metadata": {
  "kernelspec": {
   "display_name": "Python 3 (ipykernel)",
   "language": "python",
   "name": "python3"
  },
  "language_info": {
   "codemirror_mode": {
    "name": "ipython",
    "version": 3
   },
   "file_extension": ".py",
   "mimetype": "text/x-python",
   "name": "python",
   "nbconvert_exporter": "python",
   "pygments_lexer": "ipython3",
   "version": "3.8.8"
  }
 },
 "nbformat": 4,
 "nbformat_minor": 5
}
